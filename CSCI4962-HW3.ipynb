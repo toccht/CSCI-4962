{
  "nbformat": 4,
  "nbformat_minor": 0,
  "metadata": {
    "colab": {
      "name": "CSCI4962-HW3.ipynb",
      "provenance": [],
      "collapsed_sections": [],
      "authorship_tag": "ABX9TyPePeDVn5ItahekClDj8CnX",
      "include_colab_link": true
    },
    "kernelspec": {
      "name": "python3",
      "display_name": "Python 3"
    },
    "language_info": {
      "name": "python"
    }
  },
  "cells": [
    {
      "cell_type": "markdown",
      "metadata": {
        "id": "view-in-github",
        "colab_type": "text"
      },
      "source": [
        "<a href=\"https://colab.research.google.com/github/toccht/CSCI-4962/blob/main/CSCI4962-HW3.ipynb\" target=\"_parent\"><img src=\"https://colab.research.google.com/assets/colab-badge.svg\" alt=\"Open In Colab\"/></a>"
      ]
    },
    {
      "cell_type": "markdown",
      "metadata": {
        "id": "BZYBH_UiAyBd"
      },
      "source": [
        "# CSCI-4962 Homework 3\n",
        "Author: Trevor Tocchet"
      ]
    },
    {
      "cell_type": "markdown",
      "metadata": {
        "id": "k0Oc8-GREWxb"
      },
      "source": [
        "# Framework Research\n",
        "\n",
        "I used the Keras framework for most of the implementation of the two-layer neural network. Keras is a high level interface for the TensorFlow library. It also helped with tuning the hyperparameters. The library made implementing a neural network intuitive and allowed a lot of flexibility when building/implementing the model.\n",
        "\n",
        "Keras: https://keras.io/\n",
        "\n",
        "SGD: https://keras.io/api/optimizers/sgd/\n",
        "\n",
        "Hyperparameter Tuner: https://keras.io/keras_tuner/\n",
        "\n",
        "More Resources\n",
        "*   https://machinelearningmastery.com/tutorial-first-neural-network-python-keras/\n",
        "*   https://towardsdatascience.com/building-our-first-neural-network-in-keras-bdc8abbc17f5\n",
        "*   https://www.pyimagesearch.com/2021/06/07/easy-hyperparameter-tuning-with-keras-tuner-and-tensorflow/\n",
        "\n"
      ]
    },
    {
      "cell_type": "code",
      "metadata": {
        "id": "G7aHI0m4vCIX"
      },
      "source": [
        "pip install keras-tuner"
      ],
      "execution_count": null,
      "outputs": []
    },
    {
      "cell_type": "code",
      "metadata": {
        "id": "btbXRYwBu5Ev"
      },
      "source": [
        "import keras_tuner as kt\n",
        "from tensorflow import keras\n",
        "import tensorflow as tf\n",
        "from sklearn.datasets import load_iris\n",
        "from sklearn.model_selection import train_test_split\n",
        "import numpy as np\n",
        "import pandas as pd"
      ],
      "execution_count": 4,
      "outputs": []
    },
    {
      "cell_type": "markdown",
      "metadata": {
        "id": "sxEv7qy8DUTg"
      },
      "source": [
        "# Data\n",
        "I choose the MNIST data set which is a well known deep learning data set that aims to predict handwritten digits to their corresponding number. This problem can extended to many applications like photo-to-text apps that turn handwriting into text on a device.\n",
        "\n",
        "https://keras.io/api/datasets/mnist/"
      ]
    },
    {
      "cell_type": "markdown",
      "metadata": {
        "id": "qpwWUk33wOYO"
      },
      "source": [
        "# Data Pre-Processing"
      ]
    },
    {
      "cell_type": "code",
      "metadata": {
        "id": "bIZASYIM-NY3"
      },
      "source": [
        "from keras.datasets import mnist\n",
        "from tensorflow.keras.utils import to_categorical\n",
        "\n",
        "(trainX, trainY), (testX, testY) = mnist.load_data()\n",
        "\n",
        "# scale image data on normal distribution [0, 1]\n",
        "trainX = trainX.astype(\"float32\") / 255.0\n",
        "testX = testX.astype(\"float32\") / 255.0\n",
        "\n",
        "# one-hot encode the labels\n",
        "trainY = to_categorical(trainY)\n",
        "testY = to_categorical(testY)"
      ],
      "execution_count": null,
      "outputs": []
    },
    {
      "cell_type": "markdown",
      "metadata": {
        "id": "Gr5E5jjPA-XE"
      },
      "source": [
        "# Neural Network Model"
      ]
    },
    {
      "cell_type": "code",
      "metadata": {
        "id": "FsvBdCTpvJFv"
      },
      "source": [
        "# two-layer neural network model\n",
        "def build_model(hp):\n",
        "  hp_units = hp.Int('units', min_value=8, max_value=64, step=8)\n",
        "  \n",
        "  model = keras.Sequential()\n",
        "\n",
        "  # image is of size (28, 28) so we need to linearize it\n",
        "  model.add(keras.layers.Flatten()) \n",
        "\n",
        "  model.add(keras.layers.Dense(hp_units, activation='relu'))\n",
        "  model.add(keras.layers.Dense(10, activation='sigmoid'))\n",
        "\n",
        "  lr = hp.Choice(\"learning_rate\", values=[1e-1, 1e-2, 1e-3, 1e-4])\n",
        "  #mm = hp.Choice(\"momentum\", values=[0.90, 0.91, 0.92, 0.93, 0.94, 0.95])\n",
        "\n",
        "  sgd_optimizer = tf.keras.optimizers.SGD(learning_rate=lr, momentum=0.9, nesterov=False, name=\"SGD\")\n",
        "\n",
        "  model.compile(loss='categorical_crossentropy', optimizer=sgd_optimizer, metrics=['accuracy'])\n",
        "\n",
        "  return model"
      ],
      "execution_count": 11,
      "outputs": []
    },
    {
      "cell_type": "code",
      "metadata": {
        "id": "B9xOBEvCERM8",
        "colab": {
          "base_uri": "https://localhost:8080/"
        },
        "outputId": "bdcd19e9-0419-4afc-bc6b-b4abfd1bdd08"
      },
      "source": [
        "tuner = kt.RandomSearch(\n",
        "    build_model,\n",
        "    objective='val_accuracy',\n",
        "    max_trials=10,\n",
        "    overwrite=True)\n",
        "\n",
        "#tuner.search_space_summary()\n",
        "tuner.search(trainX, trainY, epochs=2, validation_split=0.2, batch_size=32)\n",
        "\n",
        "# print tuner summary results\n",
        "tuner.results_summary()\n",
        "\n",
        "best_hp = tuner.get_best_hyperparameters(num_trials=1)[0]\n",
        "print(\"\\nBest learning rate for SGD is {}\".format(best_hp.get('learning_rate')))\n",
        "print(\"Best number number of nodes in the first hidden layer is {} nodes\\n\".format(best_hp.get('units')))\n",
        "\n",
        "# build new neural network with best hyperparameters\n",
        "model = tuner.hypermodel.build(best_hp)\n",
        "history = model.fit(trainX, trainY, validation_split=0.2, batch_size=32, epochs=20, verbose=1)\n",
        "\n",
        "print() # output formatting\n",
        "\n",
        "_, accuracy = model.evaluate(testX, testY)\n",
        "print(\"Tuned model has {:.2f}% accuracy on the test data\".format(accuracy*100))"
      ],
      "execution_count": 15,
      "outputs": [
        {
          "output_type": "stream",
          "name": "stdout",
          "text": [
            "Trial 10 Complete [00h 00m 05s]\n",
            "val_accuracy: 0.8880833387374878\n",
            "\n",
            "Best val_accuracy So Far: 0.9577500224113464\n",
            "Total elapsed time: 00h 01m 21s\n",
            "INFO:tensorflow:Oracle triggered exit\n",
            "Results summary\n",
            "Results in ./untitled_project\n",
            "Showing 10 best trials\n",
            "Objective(name='val_accuracy', direction='max')\n",
            "Trial summary\n",
            "Hyperparameters:\n",
            "units: 64\n",
            "learning_rate: 0.01\n",
            "Score: 0.9577500224113464\n",
            "Trial summary\n",
            "Hyperparameters:\n",
            "units: 48\n",
            "learning_rate: 0.01\n",
            "Score: 0.950166642665863\n",
            "Trial summary\n",
            "Hyperparameters:\n",
            "units: 48\n",
            "learning_rate: 0.1\n",
            "Score: 0.949833333492279\n",
            "Trial summary\n",
            "Hyperparameters:\n",
            "units: 24\n",
            "learning_rate: 0.001\n",
            "Score: 0.9054166674613953\n",
            "Trial summary\n",
            "Hyperparameters:\n",
            "units: 16\n",
            "learning_rate: 0.001\n",
            "Score: 0.9021666646003723\n",
            "Trial summary\n",
            "Hyperparameters:\n",
            "units: 8\n",
            "learning_rate: 0.1\n",
            "Score: 0.8880833387374878\n",
            "Trial summary\n",
            "Hyperparameters:\n",
            "units: 48\n",
            "learning_rate: 0.0001\n",
            "Score: 0.8180000185966492\n",
            "Trial summary\n",
            "Hyperparameters:\n",
            "units: 32\n",
            "learning_rate: 0.0001\n",
            "Score: 0.8042500019073486\n",
            "Trial summary\n",
            "Hyperparameters:\n",
            "units: 16\n",
            "learning_rate: 0.0001\n",
            "Score: 0.7281666398048401\n",
            "Trial summary\n",
            "Hyperparameters:\n",
            "units: 8\n",
            "learning_rate: 0.0001\n",
            "Score: 0.5346666574478149\n",
            "\n",
            "Best learning rate for SGD is 0.01\n",
            "Best number number of nodes in the first hidden layer is 64 nodes\n",
            "\n",
            "Epoch 1/20\n",
            "1500/1500 [==============================] - 3s 2ms/step - loss: 0.3487 - accuracy: 0.8986 - val_loss: 0.2192 - val_accuracy: 0.9365\n",
            "Epoch 2/20\n",
            "1500/1500 [==============================] - 3s 2ms/step - loss: 0.1787 - accuracy: 0.9481 - val_loss: 0.1483 - val_accuracy: 0.9578\n",
            "Epoch 3/20\n",
            "1500/1500 [==============================] - 3s 2ms/step - loss: 0.1329 - accuracy: 0.9612 - val_loss: 0.1242 - val_accuracy: 0.9652\n",
            "Epoch 4/20\n",
            "1500/1500 [==============================] - 3s 2ms/step - loss: 0.1071 - accuracy: 0.9685 - val_loss: 0.1198 - val_accuracy: 0.9647\n",
            "Epoch 5/20\n",
            "1500/1500 [==============================] - 3s 2ms/step - loss: 0.0893 - accuracy: 0.9741 - val_loss: 0.1075 - val_accuracy: 0.9686\n",
            "Epoch 6/20\n",
            "1500/1500 [==============================] - 3s 2ms/step - loss: 0.0773 - accuracy: 0.9773 - val_loss: 0.1061 - val_accuracy: 0.9693\n",
            "Epoch 7/20\n",
            "1500/1500 [==============================] - 3s 2ms/step - loss: 0.0671 - accuracy: 0.9798 - val_loss: 0.1004 - val_accuracy: 0.9705\n",
            "Epoch 8/20\n",
            "1500/1500 [==============================] - 3s 2ms/step - loss: 0.0586 - accuracy: 0.9826 - val_loss: 0.1002 - val_accuracy: 0.9718\n",
            "Epoch 9/20\n",
            "1500/1500 [==============================] - 3s 2ms/step - loss: 0.0518 - accuracy: 0.9851 - val_loss: 0.0968 - val_accuracy: 0.9712\n",
            "Epoch 10/20\n",
            "1500/1500 [==============================] - 3s 2ms/step - loss: 0.0465 - accuracy: 0.9871 - val_loss: 0.0967 - val_accuracy: 0.9715\n",
            "Epoch 11/20\n",
            "1500/1500 [==============================] - 3s 2ms/step - loss: 0.0417 - accuracy: 0.9881 - val_loss: 0.0981 - val_accuracy: 0.9710\n",
            "Epoch 12/20\n",
            "1500/1500 [==============================] - 3s 2ms/step - loss: 0.0375 - accuracy: 0.9891 - val_loss: 0.1029 - val_accuracy: 0.9697\n",
            "Epoch 13/20\n",
            "1500/1500 [==============================] - 3s 2ms/step - loss: 0.0337 - accuracy: 0.9901 - val_loss: 0.0953 - val_accuracy: 0.9730\n",
            "Epoch 14/20\n",
            "1500/1500 [==============================] - 3s 2ms/step - loss: 0.0297 - accuracy: 0.9921 - val_loss: 0.0965 - val_accuracy: 0.9720\n",
            "Epoch 15/20\n",
            "1500/1500 [==============================] - 3s 2ms/step - loss: 0.0268 - accuracy: 0.9930 - val_loss: 0.0934 - val_accuracy: 0.9741\n",
            "Epoch 16/20\n",
            "1500/1500 [==============================] - 3s 2ms/step - loss: 0.0240 - accuracy: 0.9940 - val_loss: 0.0982 - val_accuracy: 0.9733\n",
            "Epoch 17/20\n",
            "1500/1500 [==============================] - 3s 2ms/step - loss: 0.0219 - accuracy: 0.9945 - val_loss: 0.0955 - val_accuracy: 0.9747\n",
            "Epoch 18/20\n",
            "1500/1500 [==============================] - 3s 2ms/step - loss: 0.0193 - accuracy: 0.9956 - val_loss: 0.0943 - val_accuracy: 0.9747\n",
            "Epoch 19/20\n",
            "1500/1500 [==============================] - 3s 2ms/step - loss: 0.0174 - accuracy: 0.9963 - val_loss: 0.0992 - val_accuracy: 0.9741\n",
            "Epoch 20/20\n",
            "1500/1500 [==============================] - 3s 2ms/step - loss: 0.0158 - accuracy: 0.9967 - val_loss: 0.0990 - val_accuracy: 0.9736\n",
            "\n",
            "313/313 [==============================] - 1s 2ms/step - loss: 0.0812 - accuracy: 0.9766\n",
            "Tuned model has 97.66% accuracy on the test data\n"
          ]
        }
      ]
    },
    {
      "cell_type": "markdown",
      "metadata": {
        "id": "7tQa2aPmBYFi"
      },
      "source": [
        "# Graphing"
      ]
    },
    {
      "cell_type": "code",
      "metadata": {
        "colab": {
          "base_uri": "https://localhost:8080/",
          "height": 573
        },
        "id": "X7d1CPcFvJrL",
        "outputId": "0225a302-886c-4213-a1c1-dcda15ccc10e"
      },
      "source": [
        "import matplotlib.pyplot as plt\n",
        "\n",
        "plt.plot(history.history['accuracy'])\n",
        "plt.plot(history.history['val_accuracy'])\n",
        "plt.title('Model accuracy')\n",
        "plt.ylabel('Accuracy')\n",
        "plt.xlabel('Epoch')\n",
        "plt.legend(['Train', 'Test'], loc='upper left')\n",
        "plt.show()\n",
        "\n",
        "plt.plot(history.history['loss'])\n",
        "plt.plot(history.history['val_loss'])\n",
        "plt.title('Model loss')\n",
        "plt.ylabel('Loss')\n",
        "plt.xlabel('Epoch')\n",
        "plt.legend(['Train', 'Test'], loc='upper right')\n",
        "plt.show()"
      ],
      "execution_count": 17,
      "outputs": [
        {
          "output_type": "display_data",
          "data": {
            "image/png": "[encoded data removed]",
            "text/plain": [
              "<Figure size 432x288 with 1 Axes>"
            ]
          },
          "metadata": {
            "needs_background": "light"
          }
        },
        {
          "output_type": "display_data",
          "data": {
            "image/png": "[encoded data removed]",
            "text/plain": [
              "<Figure size 432x288 with 1 Axes>"
            ]
          },
          "metadata": {
            "needs_background": "light"
          }
        }
      ]
    },
    {
      "cell_type": "markdown",
      "metadata": {
        "id": "9foBobYYumZd"
      },
      "source": [
        "# Hyperparameter Choices\n",
        "With more trials and an expanded range of nodes to test, the accuracy of the model has room to improve. Although, time is a factor when many more tests are added to the tuner. I chose RandomSearch because it is faster than other hyperparameter tuning algorithms such as Hyperband shown in this article: https://www.pyimagesearch.com/2021/06/07/easy-hyperparameter-tuning-with-keras-tuner-and-tensorflow/\n",
        "\n",
        "I ran the model a few times to find a solid range for the number of nodes in the hidden layer. If time permitted and the testing/trials could run for long periods of time, an extended range of numbers would have increased the accuracy of the model. Also I opted to not tune momentum because the value of 0.9 worked the best for most cases, here is some research I looked at for determining momentum values: https://towardsdatascience.com/stochastic-gradient-descent-with-momentum-a84097641a5d"
      ]
    }
  ]
}